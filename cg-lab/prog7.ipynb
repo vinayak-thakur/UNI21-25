import cv2
import matplotlib.pyplot as plt
image=cv2.imread('vinayakphoto.jpeg')
image_mat=cv2.cvtColor(image,cv2.COLOR_BGR2RGB)
ht,wd,c=image.shape
midy=ht//2
midx=wd//2
plt.imshow(image_mat)
tl=image_mat[:midy,:midx]
tr=image_mat[:midy,midx:]
bl=image_mat[midy:,:midx]
br=image_mat[midy:,midx:]
fig,axs=plt.subplots(2,2)
l_title=["Top left","Top right","bottom left","bottom right"]
l_var=[tl,tr,bl,br]
k=0
for i in range(2):
    for j in range(2):
       axs[i,j].imshow(l_var[k])
       axs[i,j].set_title(l_title[k])
       axs[i,j].axis("off")
       k+=1
